{
 "cells": [
  {
   "cell_type": "code",
   "execution_count": 1,
   "id": "015a52f3",
   "metadata": {},
   "outputs": [],
   "source": [
    "import numpy as np"
   ]
  },
  {
   "cell_type": "code",
   "execution_count": 2,
   "id": "a0ea72db",
   "metadata": {},
   "outputs": [],
   "source": [
    "revenue = np.array([[200,220,250],[68,79,105],[110,140,180],[80,85,90]])\n",
    "rupee = np.array([[75,75,75,75]])"
   ]
  },
  {
   "cell_type": "code",
   "execution_count": 3,
   "id": "6a2c9962",
   "metadata": {},
   "outputs": [
    {
     "data": {
      "text/plain": [
       "array([[34350, 39300, 46875]])"
      ]
     },
     "execution_count": 3,
     "metadata": {},
     "output_type": "execute_result"
    }
   ],
   "source": [
    "np.dot(rupee , revenue)"
   ]
  },
  {
   "cell_type": "code",
   "execution_count": 4,
   "id": "ce3bd4e3",
   "metadata": {},
   "outputs": [],
   "source": [
    "units = ([[50,60,25],[10,13,5],[40,70,52]])\n",
    "price_per_units = ([[20,30,15]])\n"
   ]
  },
  {
   "cell_type": "code",
   "execution_count": 5,
   "id": "3e862817",
   "metadata": {},
   "outputs": [
    {
     "data": {
      "text/plain": [
       "array([[1900, 2640, 1430]])"
      ]
     },
     "execution_count": 5,
     "metadata": {},
     "output_type": "execute_result"
    }
   ],
   "source": [
    "np.dot(price_per_units , units)"
   ]
  },
  {
   "cell_type": "code",
   "execution_count": null,
   "id": "7b7cc09b",
   "metadata": {},
   "outputs": [],
   "source": []
  }
 ],
 "metadata": {
  "kernelspec": {
   "display_name": "Python 3",
   "language": "python",
   "name": "python3"
  },
  "language_info": {
   "codemirror_mode": {
    "name": "ipython",
    "version": 3
   },
   "file_extension": ".py",
   "mimetype": "text/x-python",
   "name": "python",
   "nbconvert_exporter": "python",
   "pygments_lexer": "ipython3",
   "version": "3.8.8"
  }
 },
 "nbformat": 4,
 "nbformat_minor": 5
}
